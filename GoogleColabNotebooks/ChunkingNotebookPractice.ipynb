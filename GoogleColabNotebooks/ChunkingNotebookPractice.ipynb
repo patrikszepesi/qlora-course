{
  "nbformat": 4,
  "nbformat_minor": 0,
  "metadata": {
    "colab": {
      "provenance": []
    },
    "kernelspec": {
      "name": "python3",
      "display_name": "Python 3"
    },
    "language_info": {
      "name": "python"
    }
  },
  "cells": [
    {
      "cell_type": "code",
      "execution_count": null,
      "metadata": {
        "colab": {
          "base_uri": "https://localhost:8080/"
        },
        "id": "3mFgcCXbSDpC",
        "outputId": "bdbf929b-6db4-4ac6-9158-f1c3740c089c"
      },
      "outputs": [
        {
          "output_type": "stream",
          "name": "stdout",
          "text": [
            "Hello, my name is Alice. I am 30 years old and live in New York.\n"
          ]
        }
      ],
      "source": [
        "\n",
        "def introduce(name, age, city):\n",
        "  print(f\"Hello, my name is {name}. I am {age} years old and live in {city}.\")\n",
        "\n",
        "\n",
        "person_info = [\"Alice\", 30, \"New York\"]\n",
        "\n",
        "\n",
        "\n",
        "\n",
        "# ---------------------------------------------------------------------\n",
        "# Scenario A: The WRONG way (without the * operator)\n",
        "# ---------------------------------------------------------------------\n",
        "\n",
        "#introduce(person_info)\n",
        "\n",
        "\n",
        "\n",
        "# ---------------------------------------------------------------------\n",
        "# Scenario B: The RIGHT way (with the * operator)\n",
        "# ---------------------------------------------------------------------\n",
        "\n",
        "introduce(*person_info)"
      ]
    },
    {
      "cell_type": "code",
      "source": [],
      "metadata": {
        "id": "IIhwhdyzokss"
      },
      "execution_count": null,
      "outputs": []
    },
    {
      "cell_type": "code",
      "source": [],
      "metadata": {
        "id": "3kUGvQy7okvI"
      },
      "execution_count": null,
      "outputs": []
    },
    {
      "cell_type": "code",
      "source": [],
      "metadata": {
        "id": "fowmommWokyJ"
      },
      "execution_count": null,
      "outputs": []
    },
    {
      "cell_type": "code",
      "source": [
        "from itertools import chain\n",
        "\n",
        "sample = {\n",
        "    \"input_ids\": [\n",
        "        [101, 4983, 102],\n",
        "        [101, 2023, 2003, 102],\n",
        "        [101, 2759, 2007, 4937, 102]\n",
        "    ],\n",
        "    \"attention_mask\": [\n",
        "        [1, 1, 1],\n",
        "        [1, 1, 1, 1],\n",
        "        [1, 1, 1, 1, 1]\n",
        "    ]\n",
        "}\n",
        "\n",
        "print(sample)\n",
        "print(\"\\n\" + \"=\"*50 + \"\\n\")\n",
        "\n",
        "concatenated_examples = {k: list(chain(*sample[k])) for k in sample.keys()}\n",
        "\n",
        "\n",
        "\n",
        "print(concatenated_examples)"
      ],
      "metadata": {
        "id": "HXn0G92zok29",
        "colab": {
          "base_uri": "https://localhost:8080/"
        },
        "outputId": "87d80bfa-cc66-4eac-90e9-34f158fa8990"
      },
      "execution_count": null,
      "outputs": [
        {
          "output_type": "stream",
          "name": "stdout",
          "text": [
            "{'input_ids': [[101, 4983, 102], [101, 2023, 2003, 102], [101, 2759, 2007, 4937, 102]], 'attention_mask': [[1, 1, 1], [1, 1, 1, 1], [1, 1, 1, 1, 1]]}\n",
            "\n",
            "==================================================\n",
            "\n",
            "{'input_ids': [101, 4983, 102, 101, 2023, 2003, 102, 101, 2759, 2007, 4937, 102], 'attention_mask': [1, 1, 1, 1, 1, 1, 1, 1, 1, 1, 1, 1]}\n"
          ]
        }
      ]
    },
    {
      "cell_type": "code",
      "source": [],
      "metadata": {
        "id": "MbCbbe91ok42"
      },
      "execution_count": null,
      "outputs": []
    },
    {
      "cell_type": "code",
      "source": [],
      "metadata": {
        "id": "4LhKHNEpsdFl"
      },
      "execution_count": null,
      "outputs": []
    },
    {
      "cell_type": "code",
      "source": [],
      "metadata": {
        "id": "7jD-A5jfsdKe"
      },
      "execution_count": null,
      "outputs": []
    },
    {
      "cell_type": "code",
      "source": [
        "a = [[101, 4983, 102], [101, 2023, 2003, 102], [101, 2759, 2007, 4937, 102]]\n",
        "a = list(chain(*a))\n",
        "a"
      ],
      "metadata": {
        "colab": {
          "base_uri": "https://localhost:8080/"
        },
        "id": "--R2t8211UlD",
        "outputId": "9f2f7e78-d1f5-4c00-8e28-b1b00231dd6d"
      },
      "execution_count": null,
      "outputs": [
        {
          "output_type": "execute_result",
          "data": {
            "text/plain": [
              "[101, 4983, 102, 101, 2023, 2003, 102, 101, 2759, 2007, 4937, 102]"
            ]
          },
          "metadata": {},
          "execution_count": 25
        }
      ]
    },
    {
      "cell_type": "code",
      "source": [
        "from itertools import chain\n",
        "\n",
        "\n",
        "remainder = {\"input_ids\": [], \"attention_mask\": []}\n",
        "print(\"--- INITIAL STATE ---\")\n",
        "print(f\"Initial Remainder: {remainder}\\n\")\n",
        "\n",
        "\n",
        "# ==========================================================\n",
        "# --- ROUND 1 ---\n",
        "# ==========================================================\n",
        "print(\"=\"*20 + \" ROUND 1 \" + \"=\"*20)\n",
        "\n",
        "\n",
        "batch_1 = {\n",
        "    \"input_ids\": [\n",
        "        [1, 2, 3],\n",
        "        [4, 5, 6, 7],\n",
        "        [8, 9, 10, 11, 12]\n",
        "    ],\n",
        "    \"attention_mask\": [\n",
        "        [1, 1, 1],\n",
        "        [1, 1, 1, 1],\n",
        "        [1, 1, 1, 1, 1]\n",
        "    ]\n",
        "}\n",
        "print(\"1. Input for Round 1:\", batch_1)\n",
        "\n",
        "concatenated_examples = {k: list(chain(*batch_1[k])) for k in batch_1.keys()}\n",
        "print(\"\\n2. After flattening Batch 1:\", concatenated_examples)\n",
        "\n",
        "# This is the second line: prepending the (currently empty) remainder\n",
        "final_stream = {\n",
        "    k: remainder[k] + concatenated_examples[k] for k in concatenated_examples.keys()\n",
        "}\n",
        "print(\"\\n3. Final stream after adding remainder:\", final_stream)\n",
        "\n",
        "\n",
        "# --- For demonstration, let's calculate what the remainder WOULD be ---\n",
        "# We'll use a chunk_length of 10. The stream has 12 tokens.\n",
        "# So, the remainder will be the last 2 tokens.\n",
        "remainder = {k: v[10:] for k, v in final_stream.items()}\n",
        "\n",
        "print(\"\\n4. New remainder calculated for next round:\", remainder)\n",
        "\n",
        "\n",
        "# ==========================================================\n",
        "# --- ROUND 2 ---\n",
        "# ==========================================================\n",
        "print(\"\\n\\n\" + \"=\"*20 + \" ROUND 2 \" + \"=\"*20)\n",
        "batch_2 = {\n",
        "    \"input_ids\": [\n",
        "        [21, 22, 23, 24, 25],\n",
        "        [26, 27, 28, 29, 30]\n",
        "    ],\n",
        "    \"attention_mask\": [\n",
        "        [1, 1, 1, 1, 1],\n",
        "        [1, 1, 1, 1, 1]\n",
        "    ]\n",
        "}\n",
        "print(\"1. Input for Round 2:\", batch_2)\n",
        "print(f\"   (Note: The current remainder from Round 1 is: {remainder})\")\n",
        "\n",
        "\n",
        "# First line again: flattening Batch 2\n",
        "concatenated_examples = {k: list(chain(*batch_2[k])) for k in batch_2.keys()}\n",
        "print(\"\\n2. After flattening Batch 2:\", concatenated_examples)\n",
        "\n",
        "# Second line again: prepending the remainder FROM ROUND 1\n",
        "final_stream = {\n",
        "    k: remainder[k] + concatenated_examples[k] for k in concatenated_examples.keys()\n",
        "}\n",
        "print(\"\\n3. Final stream after adding remainder:\", final_stream)"
      ],
      "metadata": {
        "colab": {
          "base_uri": "https://localhost:8080/"
        },
        "id": "vQihUyxISceX",
        "outputId": "8acb85a0-de42-44f1-8f39-754a2e457160"
      },
      "execution_count": null,
      "outputs": [
        {
          "output_type": "stream",
          "name": "stdout",
          "text": [
            "--- INITIAL STATE ---\n",
            "Initial Remainder: {'input_ids': [], 'attention_mask': []}\n",
            "\n",
            "==================== ROUND 1 ====================\n",
            "1. Input for Round 1: {'input_ids': [[1, 2, 3], [4, 5, 6, 7], [8, 9, 10, 11, 12]], 'attention_mask': [[1, 1, 1], [1, 1, 1, 1], [1, 1, 1, 1, 1]]}\n",
            "\n",
            "2. After flattening Batch 1: {'input_ids': [1, 2, 3, 4, 5, 6, 7, 8, 9, 10, 11, 12], 'attention_mask': [1, 1, 1, 1, 1, 1, 1, 1, 1, 1, 1, 1]}\n",
            "\n",
            "3. Final stream after adding remainder: {'input_ids': [1, 2, 3, 4, 5, 6, 7, 8, 9, 10, 11, 12], 'attention_mask': [1, 1, 1, 1, 1, 1, 1, 1, 1, 1, 1, 1]}\n",
            "\n",
            "4. New remainder calculated for next round: {'input_ids': [11, 12], 'attention_mask': [1, 1]}\n",
            "\n",
            "\n",
            "==================== ROUND 2 ====================\n",
            "1. Input for Round 2: {'input_ids': [[21, 22, 23, 24, 25], [26, 27, 28, 29, 30]], 'attention_mask': [[1, 1, 1, 1, 1], [1, 1, 1, 1, 1]]}\n",
            "   (Note: The current remainder from Round 1 is: {'input_ids': [11, 12], 'attention_mask': [1, 1]})\n",
            "\n",
            "2. After flattening Batch 2: {'input_ids': [21, 22, 23, 24, 25, 26, 27, 28, 29, 30], 'attention_mask': [1, 1, 1, 1, 1, 1, 1, 1, 1, 1]}\n",
            "\n",
            "3. Final stream after adding remainder: {'input_ids': [11, 12, 21, 22, 23, 24, 25, 26, 27, 28, 29, 30], 'attention_mask': [1, 1, 1, 1, 1, 1, 1, 1, 1, 1, 1, 1]}\n"
          ]
        }
      ]
    },
    {
      "cell_type": "code",
      "source": [
        "# --- SETUP ---\n",
        "# Let's use a small chunk_length for this example.\n",
        "chunk_length = 5\n",
        "\n",
        "\n",
        "# This is our \"Before\" state. A dictionary where each key holds one long,\n",
        "# continuous list of tokens.\n",
        "concatenated_examples = {\n",
        "    \"input_ids\":      [10, 11, 12, 13, 14, 20, 21, 22, 23, 24, 30, 31, 32, 33, 34],\n",
        "    \"attention_mask\": [1,  1,  1,  1,  1,  1,  1,  1,  1,  1,  1,  1,  1,  1,  1]\n",
        "}\n",
        "\n",
        "# This is the total number of tokens we will slice up.\n",
        "batch_chunk_length = len(concatenated_examples['attention_mask']) #15\n",
        "\n",
        "\n",
        "print(\"--- Before Slicing ---\")\n",
        "print(\"This is our long, continuous stream of tokens:\")\n",
        "print(concatenated_examples)\n",
        "print(\"\\n\" + \"=\"*50 + \"\\n\")\n",
        "\n",
        "\n",
        "# --- THE OPERATION ---\n",
        "# This is the line of code that performs the slicing.range(start,stop,step)--->(0,15,5) i = 0,5,10\n",
        "result = {\n",
        "    k: [t[i : i + chunk_length] for i in range(0, batch_chunk_length, chunk_length)] for k, t in concatenated_examples.items()\n",
        "}\n",
        "\n",
        "\n",
        "# --- THE RESULT ---\n",
        "print(\"--- After Slicing ---\")\n",
        "print(\"The stream has been chopped into a list of smaller lists (chunks):\")\n",
        "print(result)"
      ],
      "metadata": {
        "colab": {
          "base_uri": "https://localhost:8080/"
        },
        "id": "ViBtoGJXQrZq",
        "outputId": "adbe8165-a275-44fa-e254-ad61d80b373c"
      },
      "execution_count": null,
      "outputs": [
        {
          "output_type": "stream",
          "name": "stdout",
          "text": [
            "--- Before Slicing ---\n",
            "This is our long, continuous stream of tokens:\n",
            "{'input_ids': [10, 11, 12, 13, 14, 20, 21, 22, 23, 24, 30, 31, 32, 33, 34], 'attention_mask': [1, 1, 1, 1, 1, 1, 1, 1, 1, 1, 1, 1, 1, 1, 1]}\n",
            "\n",
            "==================================================\n",
            "\n",
            "--- After Slicing ---\n",
            "The stream has been chopped into a list of smaller lists (chunks):\n",
            "{'input_ids': [[10, 11, 12, 13, 14], [20, 21, 22, 23, 24], [30, 31, 32, 33, 34]], 'attention_mask': [[1, 1, 1, 1, 1], [1, 1, 1, 1, 1], [1, 1, 1, 1, 1]]}\n"
          ]
        }
      ]
    },
    {
      "cell_type": "code",
      "source": [],
      "metadata": {
        "id": "dUdDWCd522f1"
      },
      "execution_count": null,
      "outputs": []
    },
    {
      "cell_type": "code",
      "source": [],
      "metadata": {
        "id": "QwUX_P4e22h4"
      },
      "execution_count": null,
      "outputs": []
    },
    {
      "cell_type": "code",
      "source": [],
      "metadata": {
        "id": "2tTx9gkE22kP"
      },
      "execution_count": null,
      "outputs": []
    },
    {
      "cell_type": "code",
      "source": [],
      "metadata": {
        "id": "6rED7fT122mj"
      },
      "execution_count": null,
      "outputs": []
    },
    {
      "cell_type": "code",
      "source": [],
      "metadata": {
        "id": "AB91sTJy22o9"
      },
      "execution_count": null,
      "outputs": []
    },
    {
      "cell_type": "code",
      "source": [
        "# This is what the new function does conceptually\n",
        "def new_function(sample):\n",
        "    # The chunk_length is already \"frozen\" to 2048\n",
        "    return chunk(sample, chunk_length=2048)"
      ],
      "metadata": {
        "colab": {
          "base_uri": "https://localhost:8080/"
        },
        "id": "vz_7oipRQweo",
        "outputId": "cc89231a-fe41-4679-9d0e-09b527677208"
      },
      "execution_count": null,
      "outputs": [
        {
          "output_type": "stream",
          "name": "stdout",
          "text": [
            "input_ids\n",
            "[10, 11, 12, 13, 14, 20, 21, 22, 23, 24, 30, 31, 32, 33, 34]\n",
            "attention_mask\n",
            "[1, 1, 1, 1, 1, 1, 1, 1, 1, 1, 1, 1, 1, 1, 1]\n"
          ]
        }
      ]
    }
  ]
}