{
  "nbformat": 4,
  "nbformat_minor": 0,
  "metadata": {
    "colab": {
      "provenance": []
    },
    "kernelspec": {
      "name": "python3",
      "display_name": "Python 3"
    },
    "language_info": {
      "name": "python"
    }
  },
  "cells": [
    {
      "cell_type": "code",
      "execution_count": null,
      "metadata": {
        "id": "E6SL-D3HTC6F"
      },
      "outputs": [],
      "source": [
        "# y = x1 * w1+ x2 * w2​\n",
        "\n",
        "\n",
        "import torch\n",
        "#input data\n",
        "X = torch.tensor([\n",
        "    [1.0, 2.0],\n",
        "])"
      ]
    },
    {
      "cell_type": "code",
      "source": [
        "\n",
        "W_true = torch.tensor([\n",
        "    [3.0, 5.0] # shape of 1 x 2\n",
        "])"
      ],
      "metadata": {
        "id": "Ey2eP4TPTWg2"
      },
      "execution_count": null,
      "outputs": []
    },
    {
      "cell_type": "code",
      "source": [
        "# if we transpose the shape of W_true become 2 x 1\n",
        "'''\n",
        "[3.0] # w1 weight\n",
        "[5.0] # w2 weight\n",
        "'''"
      ],
      "metadata": {
        "id": "I6fFooSwT_4k"
      },
      "execution_count": null,
      "outputs": []
    },
    {
      "cell_type": "code",
      "source": [
        "#Generate Targets with Transposed Weights\n",
        "y = X @ W_true.T # .T is what we use to tranpose"
      ],
      "metadata": {
        "id": "pLDMHvWITpQr"
      },
      "execution_count": null,
      "outputs": []
    },
    {
      "cell_type": "code",
      "source": [
        "import torch\n",
        "\n",
        "x = torch.tensor([[1.0, 2.0]])     # shape: [1, 2]\n",
        "W = torch.tensor([[3.0, 5.0]])     # shape: [1, 2]\n",
        "\n",
        "y = x @ W.T                       # [1, 2] @ [2, 1] = [1, 1]\n",
        "print(y)                         # tensor([[13.]]) ----> 1*3 + 2*5\n"
      ],
      "metadata": {
        "colab": {
          "base_uri": "https://localhost:8080/"
        },
        "id": "RJ8ujS7kTyg2",
        "outputId": "c5dda294-4500-4ace-eb4d-1ceb0f0cb189"
      },
      "execution_count": null,
      "outputs": [
        {
          "output_type": "stream",
          "name": "stdout",
          "text": [
            "tensor([[13.]])\n"
          ]
        }
      ]
    },
    {
      "cell_type": "code",
      "source": [
        "y = x @ W    # ValueError: mat1 and mat2 shapes cannot be multiplied (1x2 and 1x2)"
      ],
      "metadata": {
        "colab": {
          "base_uri": "https://localhost:8080/",
          "height": 144
        },
        "id": "u5RfMkeYT5hg",
        "outputId": "5523f366-169e-4691-8e85-981950540422"
      },
      "execution_count": null,
      "outputs": [
        {
          "output_type": "error",
          "ename": "RuntimeError",
          "evalue": "mat1 and mat2 shapes cannot be multiplied (1x2 and 1x2)",
          "traceback": [
            "\u001b[0;31m---------------------------------------------------------------------------\u001b[0m",
            "\u001b[0;31mRuntimeError\u001b[0m                              Traceback (most recent call last)",
            "\u001b[0;32m/tmp/ipython-input-5-750031631.py\u001b[0m in \u001b[0;36m<cell line: 0>\u001b[0;34m()\u001b[0m\n\u001b[0;32m----> 1\u001b[0;31m \u001b[0my\u001b[0m \u001b[0;34m=\u001b[0m \u001b[0mx\u001b[0m \u001b[0;34m@\u001b[0m \u001b[0mW\u001b[0m    \u001b[0;31m# ValueError: mat1 and mat2 shapes cannot be multiplied (1x2 and 1x2)\u001b[0m\u001b[0;34m\u001b[0m\u001b[0;34m\u001b[0m\u001b[0m\n\u001b[0m",
            "\u001b[0;31mRuntimeError\u001b[0m: mat1 and mat2 shapes cannot be multiplied (1x2 and 1x2)"
          ]
        }
      ]
    },
    {
      "cell_type": "code",
      "source": [],
      "metadata": {
        "id": "ftkzTiTTaNaM"
      },
      "execution_count": null,
      "outputs": []
    }
  ]
}