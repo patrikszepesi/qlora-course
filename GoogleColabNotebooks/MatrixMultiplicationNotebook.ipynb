{
  "cells": [
    {
      "cell_type": "code",
      "execution_count": null,
      "metadata": {
        "id": "E6SL-D3HTC6F"
      },
      "outputs": [],
      "source": [
        "# y = x1 * w1+ x2 * w2​\n",
        "\n",
        "\n",
        "import torch\n",
        "#input data\n",
        "X = torch.tensor([\n",
        "    [1.0, 2.0],\n",
        "])"
      ]
    },
    {
      "cell_type": "code",
      "execution_count": null,
      "metadata": {
        "id": "Ey2eP4TPTWg2"
      },
      "outputs": [],
      "source": [
        "\n",
        "W_true = torch.tensor([\n",
        "    [3.0, 5.0] # shape of 1 x 2\n",
        "])"
      ]
    },
    {
      "cell_type": "code",
      "execution_count": null,
      "metadata": {
        "id": "I6fFooSwT_4k"
      },
      "outputs": [],
      "source": [
        "# if we transpose the shape of W_true become 2 x 1\n",
        "'''\n",
        "[3.0] # w1 weight\n",
        "[5.0] # w2 weight\n",
        "'''"
      ]
    },
    {
      "cell_type": "code",
      "execution_count": null,
      "metadata": {
        "id": "pLDMHvWITpQr"
      },
      "outputs": [],
      "source": [
        "#Generate Targets with Transposed Weights\n",
        "y = X @ W_true.T # .T is what we use to tranpose"
      ]
    },
    {
      "cell_type": "code",
      "execution_count": null,
      "metadata": {
        "colab": {
          "base_uri": "https://localhost:8080/"
        },
        "id": "RJ8ujS7kTyg2",
        "outputId": "c5dda294-4500-4ace-eb4d-1ceb0f0cb189"
      },
      "outputs": [],
      "source": [
        "import torch\n",
        "\n",
        "x = torch.tensor([[1.0, 2.0]])     # shape: [1, 2]\n",
        "W = torch.tensor([[3.0, 5.0]])     # shape: [1, 2]\n",
        "\n",
        "y = x @ W.T                       # [1, 2] @ [2, 1] = [1, 1]\n",
        "print(y)                         # tensor([[13.]]) ----> 1*3 + 2*5\n"
      ]
    },
    {
      "cell_type": "code",
      "execution_count": null,
      "metadata": {
        "colab": {
          "base_uri": "https://localhost:8080/",
          "height": 144
        },
        "id": "u5RfMkeYT5hg",
        "outputId": "5523f366-169e-4691-8e85-981950540422"
      },
      "outputs": [],
      "source": [
        "y = x @ W    # ValueError: mat1 and mat2 shapes cannot be multiplied (1x2 and 1x2)"
      ]
    },
    {
      "cell_type": "code",
      "execution_count": null,
      "metadata": {
        "id": "ftkzTiTTaNaM"
      },
      "outputs": [],
      "source": []
    }
  ],
  "metadata": {
    "colab": {
      "provenance": []
    },
    "kernelspec": {
      "display_name": "Python 3",
      "name": "python3"
    },
    "language_info": {
      "name": "python"
    }
  },
  "nbformat": 4,
  "nbformat_minor": 0
}
